{
 "cells": [
  {
   "cell_type": "markdown",
   "metadata": {},
   "source": [
    "S"
   ]
  },
  {
   "cell_type": "markdown",
   "metadata": {},
   "source": [
    "setup virtual environment"
   ]
  },
  {
   "cell_type": "code",
   "execution_count": null,
   "metadata": {
    "vscode": {
     "languageId": "plaintext"
    }
   },
   "outputs": [],
   "source": [
    "git init\n",
    "git add .\n",
    "git commit -m \"first commit\"\n",
    "git push -u origin main\n"
   ]
  },
  {
   "cell_type": "markdown",
   "metadata": {},
   "source": [
    "if failed to push (or rejected); <br>\n",
    "        error: failed to push some refs to 'https://github.com/opokharel1/Django-project.git'<br>\n",
    "        hint: Updates were rejected because the tip of your current branch is behind <br>\n",
    "        hint: its remote counterpart. If you want to integrate the remote changes, <br>\n",
    "        hint: use 'git pull' before pushing again. <br>\n",
    "        hint: See the 'Note about fast-forwards' in 'git push --help' for details."
   ]
  },
  {
   "cell_type": "code",
   "execution_count": null,
   "metadata": {
    "vscode": {
     "languageId": "plaintext"
    }
   },
   "outputs": [],
   "source": [
    "git pull origin main --allow-unrelated-histories"
   ]
  },
  {
   "cell_type": "markdown",
   "metadata": {},
   "source": [
    "and then, give the push command"
   ]
  },
  {
   "cell_type": "code",
   "execution_count": null,
   "metadata": {
    "vscode": {
     "languageId": "plaintext"
    }
   },
   "outputs": [],
   "source": []
  }
 ],
 "metadata": {
  "language_info": {
   "name": "python"
  }
 },
 "nbformat": 4,
 "nbformat_minor": 2
}
