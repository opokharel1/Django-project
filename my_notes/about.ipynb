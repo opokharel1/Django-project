{
 "cells": [
  {
   "cell_type": "markdown",
   "metadata": {},
   "source": [
    "# Start Building the Django Project"
   ]
  },
  {
   "cell_type": "markdown",
   "metadata": {},
   "source": [
    "### Installation:"
   ]
  },
  {
   "cell_type": "markdown",
   "metadata": {},
   "source": [
    "First, make the directory named \"Django Project\" in your local machine for the project.\n",
    "\n",
    "Open the terminal (in VS code).\n",
    "\n",
    "Then, install django."
   ]
  },
  {
   "cell_type": "code",
   "execution_count": null,
   "metadata": {
    "vscode": {
     "languageId": "plaintext"
    }
   },
   "outputs": [],
   "source": [
    "pip install django"
   ]
  },
  {
   "cell_type": "markdown",
   "metadata": {},
   "source": [
    "To upgrade the django:"
   ]
  },
  {
   "cell_type": "code",
   "execution_count": null,
   "metadata": {
    "vscode": {
     "languageId": "plaintext"
    }
   },
   "outputs": [],
   "source": [
    "pip install django --upgrade"
   ]
  },
  {
   "cell_type": "markdown",
   "metadata": {},
   "source": [
    "In VS code, install the following extensions: \n",
    "\n",
    "![image](../my_notes/images/Python_extension.png)\n",
    "\n",
    "and \n",
    "\n",
    "<img src=\"../my_notes/images/Django_extension.png\" width=\"50%\" /><br>\n",
    "this helps with <I>syntax suggestion</I> for Django template codes.\n",
    "\n",
    "next, install <img src=\"../my_notes/images/Cody_extension.png\" width=\"50%\" /> and signup \n",
    " "
   ]
  },
  {
   "cell_type": "markdown",
   "metadata": {},
   "source": [
    "Sometimes, what happens is that we install django and make some projects. Later, we may upgrade the django for our other tasks. But, due to incompatibility issues in versions, working in the previous projects becomes difficult. So, as the solution to this problem, we can create a virtual environment for our project.\n",
    "\n",
    "### Virtual Environment\n",
    "\n",
    "May follow this [documentation](https://virtualenv.pypa.io/en/latest/user_guide.html). \n",
    "\n",
    "Or, \n",
    "\n",
    "1. Install virtual environment in this directory \"Django Project\""
   ]
  },
  {
   "cell_type": "code",
   "execution_count": null,
   "metadata": {
    "vscode": {
     "languageId": "plaintext"
    }
   },
   "outputs": [],
   "source": [
    "pip install virtualenv"
   ]
  },
  {
   "cell_type": "markdown",
   "metadata": {},
   "source": [
    "2.  Make the virtual environment (give name to the virtual environment); <br>\n",
    "        (<I> code:</I> virtualenv <env_name>)\n"
   ]
  },
  {
   "cell_type": "code",
   "execution_count": null,
   "metadata": {
    "vscode": {
     "languageId": "plaintext"
    }
   },
   "outputs": [],
   "source": [
    "virtualenv Django_work "
   ]
  },
  {
   "cell_type": "markdown",
   "metadata": {},
   "source": [
    "3. Activate the virtual environment <br>\n",
    "(<I> code: <br>\n",
    "</I>source <env_name>/Scripts/activate —> in Windows <br>\n",
    "source <env_name>/bin/activate —> in mac)\n"
   ]
  },
  {
   "cell_type": "code",
   "execution_count": null,
   "metadata": {
    "vscode": {
     "languageId": "plaintext"
    }
   },
   "outputs": [],
   "source": [
    "source Django_work/Scripts/activate"
   ]
  },
  {
   "cell_type": "markdown",
   "metadata": {},
   "source": [
    "### Start a Django project"
   ]
  },
  {
   "cell_type": "code",
   "execution_count": null,
   "metadata": {
    "vscode": {
     "languageId": "plaintext"
    }
   },
   "outputs": [],
   "source": [
    "django-admin"
   ]
  },
  {
   "cell_type": "markdown",
   "metadata": {},
   "source": [
    "by doing this, you will get to see the various commands that you can use with 'django-admin'.\n",
    "\n",
    "But,\n",
    "##### To create the django project:"
   ]
  },
  {
   "cell_type": "code",
   "execution_count": null,
   "metadata": {
    "vscode": {
     "languageId": "plaintext"
    }
   },
   "outputs": [],
   "source": [
    "django-admin startproject Portfolio"
   ]
  },
  {
   "cell_type": "markdown",
   "metadata": {},
   "source": [
    "This above command creates the project named 'Portfolio'\n",
    "and, this creates 'manage.py' and next folder named 'Portfolio' inside it.\n",
    "\n",
    "Now,\n",
    "\n",
    "##### Open a \"git bash\" terminal in VS code\n",
    "\n",
    "there, you can use the linux commands like:"
   ]
  },
  {
   "cell_type": "code",
   "execution_count": null,
   "metadata": {
    "vscode": {
     "languageId": "plaintext"
    }
   },
   "outputs": [],
   "source": [
    "pwd"
   ]
  },
  {
   "cell_type": "markdown",
   "metadata": {},
   "source": [
    "'pwd' shows your current directory. <br> eg: /c/Users/ADMIN/OneDrive/Desktop/Ccc/Django Project/Portfolio"
   ]
  },
  {
   "cell_type": "markdown",
   "metadata": {},
   "source": [
    "### Run the Django project"
   ]
  },
  {
   "cell_type": "code",
   "execution_count": null,
   "metadata": {
    "vscode": {
     "languageId": "plaintext"
    }
   },
   "outputs": [],
   "source": [
    "python manage.py runserver"
   ]
  },
  {
   "cell_type": "markdown",
   "metadata": {},
   "source": [
    "To check if the server is running or not, instead of doing “python manage.py runserver”, you can do:\n"
   ]
  },
  {
   "cell_type": "code",
   "execution_count": null,
   "metadata": {
    "vscode": {
     "languageId": "plaintext"
    }
   },
   "outputs": [],
   "source": [
    "python manage.py check"
   ]
  },
  {
   "cell_type": "markdown",
   "metadata": {},
   "source": [
    "It gives::\n",
    "Starting development server at http://127.0.0.1:8000/\n",
    "\n",
    "when you click on the link given by the server, it will show you the page.\n",
    "\n",
    "And, on doing http://127.0.0.1:8000/admin, it will show you the admin page. Django gives the admin page by default however, we can customize it.\n",
    "\n",
    "#### Set the username and password for Admin:"
   ]
  },
  {
   "cell_type": "code",
   "execution_count": null,
   "metadata": {
    "vscode": {
     "languageId": "plaintext"
    }
   },
   "outputs": [],
   "source": [
    "python manage.py createsuperuser"
   ]
  },
  {
   "cell_type": "markdown",
   "metadata": {},
   "source": [
    "Django is based on <b> MVT </b> architecture. <br>\n",
    "<b>MVT</b>: Model View Template"
   ]
  },
  {
   "cell_type": "markdown",
   "metadata": {},
   "source": [
    "Again, reload the admin page and login accordingly."
   ]
  },
  {
   "cell_type": "markdown",
   "metadata": {},
   "source": [
    "### Make App"
   ]
  },
  {
   "cell_type": "markdown",
   "metadata": {},
   "source": [
    "Now, make app inside the project named \"Portfolio\"."
   ]
  },
  {
   "cell_type": "code",
   "execution_count": null,
   "metadata": {
    "vscode": {
     "languageId": "plaintext"
    }
   },
   "outputs": [],
   "source": [
    "python manage.py startapp portfolioapp"
   ]
  },
  {
   "cell_type": "markdown",
   "metadata": {},
   "source": [
    "Then the following are formed inside the project 'Portfolio' directory.\n",
    "\n",
    "dbsqlite3 → database <br>\n",
    "migrations → changes in database (migrate has two commands: makemigration & migrate)\n",
    "\n",
    "After this app is made, go to settings.py of project \"Portfolio\" and add this app inside INSTALLED_APPS.\n",
    "\n",
    "![image](../my_notes/images/installed_app.png)\n"
   ]
  },
  {
   "cell_type": "markdown",
   "metadata": {},
   "source": [
    "Then, \n",
    "#### Make Template directory\n",
    "on the same level as manage.py"
   ]
  },
  {
   "cell_type": "markdown",
   "metadata": {},
   "source": [
    "### Start Working on your project"
   ]
  },
  {
   "cell_type": "markdown",
   "metadata": {},
   "source": [
    "#### Making HomePage\n",
    "1. In the file <b>portfolioapp/view.py</b>, make a function:\n",
    "\n",
    "![image](../my_notes/images/view.png)\n",
    "\n",
    "\n",
    "2. This homepage.html is a template file, but we have still not made this file, so, go inside the <b>template folder</b> and make a file called <b>homepage.html</b>. <br>\n",
    "   Design this page as you want. \n",
    "   like: <br>![image](../my_notes/images/home_html.png)\n",
    "\n",
    "3. Inside <b>portfolio/urls.py</b>, import this view function:\n",
    "\n",
    "![image](../my_notes/images/urls.png)\n",
    "\n",
    "NOTE: <br> \n",
    "after Class --> 2 times enter<br>\n",
    "after Function (def) --> 1 time enter\n",
    "\n"
   ]
  },
  {
   "cell_type": "markdown",
   "metadata": {},
   "source": [
    "#### Make AboutPage\n",
    "\n",
    "1. In View.py, add return and render it:\n",
    "\n",
    "![image](../my_notes/images/about_view.png)\n",
    "\n",
    "2. Make <b>about.html</b> file inside <b>templates</b> folder.\n",
    "\n",
    "3. Then, add path to <b>portfolio/urls.py</b>:\n",
    "\n",
    "![image](../my_notes/images/about_urls.png)"
   ]
  },
  {
   "cell_type": "markdown",
   "metadata": {},
   "source": [
    "Now, like you add the users from the admin panel, you can make similar to it so that you can add other contents like <b>Education</b> from there directly:\n",
    "\n",
    "<img src=\"../my_notes/images/admin.png\" height=\"200px\" />\n",
    "\n",
    "To do this, you need to make changes in <b>portfolioapp/models.py</b> file:\n",
    "\n",
    "![image](../my_notes/images/change_models.png)\n",
    "\n",
    "db.sqlite3 → this is database <br>\n",
    "models.py → helps to make table  <br>\n",
    "makemigrations → makes new file inside migration folder; gives codes, to make table <br>\n",
    "migration → makes actual table in database<br>\n",
    "\n",
    "Now, run the following commands:\n"
   ]
  },
  {
   "cell_type": "code",
   "execution_count": null,
   "metadata": {
    "vscode": {
     "languageId": "plaintext"
    }
   },
   "outputs": [],
   "source": [
    "python manage.py makemigrations"
   ]
  },
  {
   "cell_type": "code",
   "execution_count": null,
   "metadata": {
    "vscode": {
     "languageId": "plaintext"
    }
   },
   "outputs": [],
   "source": [
    "python manage.py migrate"
   ]
  },
  {
   "cell_type": "markdown",
   "metadata": {},
   "source": [
    "Still, the table added is not shown in the admin panel because we have not registered this model in <b>admin.py</b> file.\n",
    "\n",
    "So, inside <b>portfolioapp/admin.py</b> file, add the following code:\n",
    "\n",
    "![image](../my_notes/images/adminpy.png)\n",
    "\n",
    "Now, we can manually add <B>Education</B> details through the admin panel.\n",
    "\n",
    "![image](../my_notes/images/edu.png)\n",
    "\n",
    "But, still, we need to optimize the code to make the objects readable. For this, add this method inside the class <b>Education</b>:\n",
    "\n",
    "![image](../my_notes/images/models_readable.png)\n",
    "\n",
    "Then, the output will be:\n",
    "\n",
    "![image](../my_notes/images/readable.png)\n"
   ]
  },
  {
   "cell_type": "markdown",
   "metadata": {},
   "source": [
    "NOTE: <br>\n",
    "We know, db.sqlite3 is a SQLite database, but SQLite is just a file format, so it can contain any kind of data. <br>\n",
    "But this is not readable. <br>\n",
    "To make it readable, we can install the following <b>sqlite viewer</b> extension on VS Code:\n",
    "\n",
    "<img src=\"../my_notes/images/sqlite_viewer.png\" width=\"50%\" />"
   ]
  },
  {
   "cell_type": "markdown",
   "metadata": {},
   "source": [
    "Then, to <br>\n",
    "### Show the added objects (<I>of Education</I>) in the <I>Home page</I>:\n",
    "\n",
    "1. Make changes in the <b>portfolioapp/view.py</b>: <br>\n",
    "\n",
    "-- Import classes from <b>portfolioapp/models.py</b> <br>\n",
    "-- Writ SQL like: <I> education =Education.objects.all()</I> <br>\n",
    "-- Make dictionary <br>\n",
    "-- Render the dictionary in the home page.\n",
    "\n",
    "![image](../my_notes/images/home_view.png)\n",
    "\n",
    "2. Make the following changes in the <b>homepage.html</b>:  (Jinja)\n",
    "\n",
    "![image](../my_notes/images/home_html_edu.png)\n"
   ]
  },
  {
   "cell_type": "markdown",
   "metadata": {},
   "source": [
    "## Push in GitHub"
   ]
  },
  {
   "cell_type": "code",
   "execution_count": null,
   "metadata": {
    "vscode": {
     "languageId": "plaintext"
    }
   },
   "outputs": [],
   "source": [
    "git init\n",
    "git add .\n",
    "git commit -m \"first commit\"\n",
    "git push -u origin main\n"
   ]
  },
  {
   "cell_type": "markdown",
   "metadata": {},
   "source": [
    "if failed to push (or rejected); <br>\n",
    "        error: failed to push some refs to 'https://github.com/opokharel1/Django-project.git'<br>\n",
    "        hint: Updates were rejected because the tip of your current branch is behind <br>\n",
    "        hint: its remote counterpart. If you want to integrate the remote changes, <br>\n",
    "        hint: use 'git pull' before pushing again. <br>\n",
    "        hint: See the 'Note about fast-forwards' in 'git push --help' for details.\n"
   ]
  },
  {
   "cell_type": "code",
   "execution_count": null,
   "metadata": {
    "vscode": {
     "languageId": "plaintext"
    }
   },
   "outputs": [],
   "source": [
    "git pull origin main --allow-unrelated-histories"
   ]
  },
  {
   "cell_type": "markdown",
   "metadata": {},
   "source": [
    "and then, give the push command"
   ]
  },
  {
   "cell_type": "code",
   "execution_count": null,
   "metadata": {
    "vscode": {
     "languageId": "plaintext"
    }
   },
   "outputs": [],
   "source": [
    "git push -u origin main"
   ]
  }
 ],
 "metadata": {
  "language_info": {
   "name": "python"
  }
 },
 "nbformat": 4,
 "nbformat_minor": 2
}
