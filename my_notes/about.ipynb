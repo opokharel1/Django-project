{
 "cells": [
  {
   "cell_type": "markdown",
   "metadata": {},
   "source": [
    "# Start Building the Django Project"
   ]
  },
  {
   "cell_type": "markdown",
   "metadata": {},
   "source": [
    "### Installation:"
   ]
  },
  {
   "cell_type": "markdown",
   "metadata": {},
   "source": [
    "First, make the directory named \"Django Project\" in your local machine for the project.\n",
    "\n",
    "Open the terminal (in VS code).\n",
    "\n",
    "Then, install django."
   ]
  },
  {
   "cell_type": "code",
   "execution_count": null,
   "metadata": {
    "vscode": {
     "languageId": "plaintext"
    }
   },
   "outputs": [],
   "source": [
    "pip install django"
   ]
  },
  {
   "cell_type": "markdown",
   "metadata": {},
   "source": [
    "To upgrade the django:"
   ]
  },
  {
   "cell_type": "code",
   "execution_count": null,
   "metadata": {
    "vscode": {
     "languageId": "plaintext"
    }
   },
   "outputs": [],
   "source": [
    "pip install django --upgrade"
   ]
  },
  {
   "cell_type": "markdown",
   "metadata": {},
   "source": [
    "In VS code, install the following extensions: \n",
    "\n",
    "![image](../my_notes/images/Python_extension.png)\n",
    "\n",
    "and \n",
    "\n",
    "<img src=\"../my_notes/images/Django_extension.png\" width=\"50%\" /><br>\n",
    "this helps with <I>syntax suggestion</I> for Django template codes.\n",
    "\n",
    "next, install <img src=\"../my_notes/images/Cody_extension.png\" width=\"50%\" /> and signup \n",
    " "
   ]
  },
  {
   "cell_type": "markdown",
   "metadata": {},
   "source": [
    "Sometimes, what happens is that we install django and make some projects. Later, we may upgrade the django for our other tasks. But, due to incompatibility issues in versions, working in the previous projects becomes difficult. So, as the solution to this problem, we can create a virtual environment for our project.\n",
    "\n",
    "### Virtual Environment\n",
    "\n",
    "May follow this [documentation](https://pypi.org/project/virtualenv/). \n",
    "\n",
    "Or, \n",
    "\n",
    "1. Install virtual environment in this directory \"Django Project\""
   ]
  },
  {
   "cell_type": "code",
   "execution_count": null,
   "metadata": {
    "vscode": {
     "languageId": "plaintext"
    }
   },
   "outputs": [],
   "source": [
    "pip install virtualenv"
   ]
  },
  {
   "cell_type": "markdown",
   "metadata": {},
   "source": [
    "2.  Make the virtual environment (give name to the virtual environment); <br>\n",
    "        (<I> code:</I> virtualenv <env_name>)\n"
   ]
  },
  {
   "cell_type": "code",
   "execution_count": null,
   "metadata": {
    "vscode": {
     "languageId": "plaintext"
    }
   },
   "outputs": [],
   "source": [
    "virtualenv Django_work "
   ]
  },
  {
   "cell_type": "markdown",
   "metadata": {},
   "source": [
    "3. Activate the virtual environment <br>\n",
    "(<I> code: <br>\n",
    "</I>source <env_name>/Scripts/activate —> in Windows <br>\n",
    "source <env_name>/bin/activate —> in mac)\n"
   ]
  },
  {
   "cell_type": "code",
   "execution_count": null,
   "metadata": {
    "vscode": {
     "languageId": "plaintext"
    }
   },
   "outputs": [],
   "source": [
    "source Django_work/Scripts/activate"
   ]
  },
  {
   "cell_type": "markdown",
   "metadata": {},
   "source": [
    "### Start a Django project"
   ]
  },
  {
   "cell_type": "code",
   "execution_count": null,
   "metadata": {
    "vscode": {
     "languageId": "plaintext"
    }
   },
   "outputs": [],
   "source": [
    "django-admin"
   ]
  },
  {
   "cell_type": "markdown",
   "metadata": {},
   "source": [
    "by doing this, you will get to see the various commands that you can use with 'django-admin'.\n",
    "\n",
    "But,\n",
    "##### To create the django project:"
   ]
  },
  {
   "cell_type": "code",
   "execution_count": null,
   "metadata": {
    "vscode": {
     "languageId": "plaintext"
    }
   },
   "outputs": [],
   "source": [
    "django-admin startproject Portfolio"
   ]
  },
  {
   "cell_type": "markdown",
   "metadata": {},
   "source": [
    "This above command creates the project named 'Portfolio'\n",
    "and, this creates 'manage.py' and next folder named 'Portfolio' inside it.\n",
    "\n",
    "Now,\n",
    "\n",
    "##### Open a \"git bash\" terminal in VS code\n",
    "\n",
    "there, you can use the linux commands like:"
   ]
  },
  {
   "cell_type": "code",
   "execution_count": null,
   "metadata": {
    "vscode": {
     "languageId": "plaintext"
    }
   },
   "outputs": [],
   "source": [
    "pwd"
   ]
  },
  {
   "cell_type": "markdown",
   "metadata": {},
   "source": [
    "'pwd' shows your current directory. <br> eg: /c/Users/ADMIN/OneDrive/Desktop/Ccc/Django Project/Portfolio"
   ]
  },
  {
   "cell_type": "markdown",
   "metadata": {},
   "source": [
    "### Run the Django project"
   ]
  },
  {
   "cell_type": "code",
   "execution_count": null,
   "metadata": {
    "vscode": {
     "languageId": "plaintext"
    }
   },
   "outputs": [],
   "source": [
    "python manage.py runserver"
   ]
  },
  {
   "cell_type": "markdown",
   "metadata": {},
   "source": [
    "Then the following are formed inside the project 'Portfolio' directory.\n",
    "\n",
    "dbsqlite3 → database <br>\n",
    "migrations → changes in database (migrate has two commands: makemigration & migrate)\n",
    "\n",
    "It gives::\n",
    "Starting development server at http://127.0.0.1:8000/\n",
    "\n",
    "when you click on the link given by the server, it will show you the page.\n",
    "\n",
    "And, on doing http://127.0.0.1:8000/admin, it will show you the admin page. Django gives the admin page by default however, we can customize it.\n",
    "\n",
    "#### Set the username and password for Admin:"
   ]
  },
  {
   "cell_type": "code",
   "execution_count": null,
   "metadata": {
    "vscode": {
     "languageId": "plaintext"
    }
   },
   "outputs": [],
   "source": [
    "python manage.py createsuperuser"
   ]
  },
  {
   "cell_type": "markdown",
   "metadata": {},
   "source": [
    "Again, reload the admin page and login accordingly."
   ]
  },
  {
   "cell_type": "markdown",
   "metadata": {},
   "source": [
    "## Push in GitHub"
   ]
  },
  {
   "cell_type": "code",
   "execution_count": null,
   "metadata": {
    "vscode": {
     "languageId": "plaintext"
    }
   },
   "outputs": [],
   "source": [
    "git init\n",
    "git add .\n",
    "git commit -m \"first commit\"\n",
    "git push -u origin main\n"
   ]
  },
  {
   "cell_type": "markdown",
   "metadata": {},
   "source": [
    "if failed to push (or rejected); <br>\n",
    "        error: failed to push some refs to 'https://github.com/opokharel1/Django-project.git'<br>\n",
    "        hint: Updates were rejected because the tip of your current branch is behind <br>\n",
    "        hint: its remote counterpart. If you want to integrate the remote changes, <br>\n",
    "        hint: use 'git pull' before pushing again. <br>\n",
    "        hint: See the 'Note about fast-forwards' in 'git push --help' for details.\n"
   ]
  },
  {
   "cell_type": "code",
   "execution_count": null,
   "metadata": {
    "vscode": {
     "languageId": "plaintext"
    }
   },
   "outputs": [],
   "source": [
    "git pull origin main --allow-unrelated-histories"
   ]
  },
  {
   "cell_type": "markdown",
   "metadata": {},
   "source": [
    "and then, give the push command"
   ]
  },
  {
   "cell_type": "code",
   "execution_count": null,
   "metadata": {
    "vscode": {
     "languageId": "plaintext"
    }
   },
   "outputs": [],
   "source": []
  }
 ],
 "metadata": {
  "language_info": {
   "name": "python"
  }
 },
 "nbformat": 4,
 "nbformat_minor": 2
}
